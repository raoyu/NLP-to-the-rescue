{
 "cells": [
  {
   "cell_type": "code",
   "execution_count": 1,
   "metadata": {},
   "outputs": [
    {
     "name": "stderr",
     "output_type": "stream",
     "text": [
      "paramiko missing, opening SSH/SCP/SFTP paths will be disabled.  `pip install paramiko` to suppress\n"
     ]
    }
   ],
   "source": [
    "import pandas as pd\n",
    "import numpy as np\n",
    "import matplotlib.pyplot as plt\n",
    "import seaborn as sns\n",
    "import spacy\n",
    "import gensim"
   ]
  },
  {
   "cell_type": "code",
   "execution_count": 2,
   "metadata": {},
   "outputs": [],
   "source": [
    "data = pd.read_csv('only_translated.txt')\n",
    "data = data['Translated'].dropna()"
   ]
  },
  {
   "cell_type": "code",
   "execution_count": 3,
   "metadata": {},
   "outputs": [],
   "source": [
    "import re\n",
    "from gensim import models, corpora\n",
    "from nltk import word_tokenize\n",
    "from nltk.corpus import stopwords"
   ]
  },
  {
   "cell_type": "code",
   "execution_count": 4,
   "metadata": {},
   "outputs": [],
   "source": [
    "# Word Clean Part\n",
    "\n",
    "# function to remove stopwords\n",
    "STOPWORDS = stopwords.words('english')\n",
    " \n",
    "def clean_text(text):\n",
    "    tokenized_text = word_tokenize(text.lower())\n",
    "    cleaned_text = [t for t in tokenized_text if t not in STOPWORDS and re.match('[a-zA-Z\\-][a-zA-Z\\-]{2,}', t)]\n",
    "    return cleaned_text\n",
    "\n",
    "# function to conduct lemmatization for noun and adjective woprd\n",
    "nlp = spacy.load('en', disable=['parser', 'ner'])\n",
    "def lemmatization(texts, tags=['NOUN', 'ADJ']):\n",
    "    output = []\n",
    "    for sent in texts:\n",
    "        doc = nlp(\" \".join(sent)) \n",
    "        output.append([token.lemma_ for token in doc if token.pos_ in tags])\n",
    "    return output"
   ]
  },
  {
   "cell_type": "code",
   "execution_count": 5,
   "metadata": {},
   "outputs": [],
   "source": [
    "# tokenize the data\n",
    "tokenized_data = []\n",
    "for text in data:\n",
    "    tokenized_data.append(clean_text(text))"
   ]
  },
  {
   "cell_type": "code",
   "execution_count": 7,
   "metadata": {},
   "outputs": [],
   "source": [
    "# conduct lemmatization\n",
    "data_2 = lemmatization(tokenized_data)"
   ]
  },
  {
   "cell_type": "code",
   "execution_count": 8,
   "metadata": {},
   "outputs": [
    {
     "name": "stdout",
     "output_type": "stream",
     "text": [
      "[(6, 1), (22, 1), (81, 1), (91, 1), (92, 1), (93, 1), (94, 1), (95, 1), (96, 1)]\n"
     ]
    }
   ],
   "source": [
    "# Build a Dictionary - association word to numeric id\n",
    "dictionary = corpora.Dictionary(data_2)\n",
    " \n",
    "# Transform the collection of texts to a numerical form\n",
    "corpus = [dictionary.doc2bow(text) for text in data_2]\n",
    " \n",
    "# Check the corpus\n",
    "print(corpus[20])"
   ]
  },
  {
   "cell_type": "code",
   "execution_count": 9,
   "metadata": {},
   "outputs": [],
   "source": [
    "NUM_TOPICS = 20\n",
    "\n",
    "# Build the LDA model\n",
    "lda_model = models.LdaModel(corpus=corpus, num_topics=NUM_TOPICS, id2word=dictionary)\n",
    " \n",
    "# Build the LSI model\n",
    "lsa_model = models.LsiModel(corpus=corpus, num_topics=NUM_TOPICS, id2word=dictionary)"
   ]
  },
  {
   "cell_type": "code",
   "execution_count": 10,
   "metadata": {},
   "outputs": [
    {
     "name": "stdout",
     "output_type": "stream",
     "text": [
      "LDA Model:\n",
      "Topic #0: 0.206*\"traffic\" + 0.201*\"waze\" + 0.043*\"slow\" + 0.034*\"comment\" + 0.029*\"toll\" + 0.029*\"android\" + 0.027*\"practical\" + 0.026*\"road\" + 0.026*\"full\" + 0.023*\"highway\"\n",
      "Topic #1: 0.082*\"user\" + 0.077*\"much\" + 0.052*\"bug\" + 0.046*\"report\" + 0.043*\"correct\" + 0.040*\"account\" + 0.032*\"system\" + 0.026*\"accuracy\" + 0.025*\"icon\" + 0.024*\"favorite\"\n",
      "Topic #2: 0.423*\"map\" + 0.078*\"well\" + 0.041*\"information\" + 0.033*\"apple\" + 0.022*\"clear\" + 0.020*\"friend\" + 0.020*\"recommend\" + 0.019*\"date\" + 0.018*\"hand\" + 0.014*\"ad\"\n",
      "Topic #3: 0.334*\"excellent\" + 0.119*\"awesome\" + 0.091*\"point\" + 0.068*\"cool\" + 0.062*\"travel\" + 0.056*\"error\" + 0.027*\"line\" + 0.021*\"light\" + 0.016*\"friendly\" + 0.016*\"town\"\n",
      "Topic #4: 0.224*\"navigation\" + 0.160*\"lot\" + 0.057*\"feature\" + 0.056*\"offline\" + 0.048*\"amazing\" + 0.044*\"turn\" + 0.029*\"blue\" + 0.028*\"fine\" + 0.021*\"improvement\" + 0.018*\"meter\"\n",
      "Topic #5: 0.107*\"phone\" + 0.105*\"new\" + 0.074*\"version\" + 0.064*\"screen\" + 0.038*\"open\" + 0.031*\"old\" + 0.028*\"little\" + 0.028*\"issue\" + 0.027*\"need\" + 0.026*\"download\"\n",
      "Topic #6: 0.680*\"app\" + 0.157*\"nice\" + 0.029*\"drive\" + 0.023*\"nothing\" + 0.014*\"happy\" + 0.011*\"instruction\" + 0.009*\"intuitive\" + 0.007*\"samsung\" + 0.006*\"regular\" + 0.004*\"lock\"\n",
      "Topic #7: 0.898*\"good\" + 0.054*\"super\" + 0.003*\"mapping\" + 0.003*\"maj\" + 0.003*\"let\" + 0.002*\"understand\" + 0.002*\"absolute\" + 0.002*\"offer\" + 0.001*\"beginning\" + 0.001*\"imagine\"\n",
      "Topic #8: 0.195*\"update\" + 0.117*\"location\" + 0.111*\"work\" + 0.067*\"iphone\" + 0.066*\"last\" + 0.035*\"time\" + 0.028*\"late\" + 0.026*\"fix\" + 0.017*\"crash\" + 0.017*\"io\"\n",
      "Topic #9: 0.157*\"bad\" + 0.105*\"direction\" + 0.099*\"car\" + 0.091*\"thing\" + 0.084*\"wrong\" + 0.042*\"alert\" + 0.040*\"big\" + 0.025*\"road\" + 0.024*\"side\" + 0.024*\"complete\"\n",
      "Topic #10: 0.206*\"gps\" + 0.110*\"accurate\" + 0.081*\"street\" + 0.075*\"voice\" + 0.069*\"signal\" + 0.064*\"address\" + 0.033*\"name\" + 0.031*\"notification\" + 0.024*\"internet\" + 0.021*\"avoid\"\n",
      "Topic #11: 0.096*\"problem\" + 0.079*\"road\" + 0.069*\"many\" + 0.067*\"time\" + 0.039*\"people\" + 0.038*\"everything\" + 0.037*\"year\" + 0.031*\"minute\" + 0.030*\"lane\" + 0.029*\"several\"\n",
      "Topic #12: 0.217*\"love\" + 0.137*\"place\" + 0.086*\"top\" + 0.044*\"trip\" + 0.040*\"search\" + 0.035*\"home\" + 0.027*\"info\" + 0.023*\"journey\" + 0.021*\"guide\" + 0.020*\"screen\"\n",
      "Topic #13: 0.323*\"helpful\" + 0.041*\"everyone\" + 0.036*\"mile\" + 0.023*\"inaccurate\" + 0.021*\"crazy\" + 0.020*\"store\" + 0.019*\"major\" + 0.018*\"play\" + 0.016*\"certain\" + 0.014*\"unknown\"\n",
      "Topic #14: 0.189*\"route\" + 0.088*\"way\" + 0.062*\"time\" + 0.056*\"option\" + 0.047*\"destination\" + 0.045*\"long\" + 0.027*\"position\" + 0.025*\"fast\" + 0.024*\"direction\" + 0.020*\"turn\"\n",
      "Topic #15: 0.374*\"great\" + 0.196*\"app\" + 0.095*\"thank\" + 0.030*\"perfect\" + 0.021*\"button\" + 0.021*\"wonderful\" + 0.021*\"job\" + 0.020*\"free\" + 0.019*\"fantastic\" + 0.016*\"guy\"\n",
      "Topic #16: 0.243*\"application\" + 0.137*\"time\" + 0.068*\"day\" + 0.067*\"speed\" + 0.046*\"real\" + 0.034*\"help\" + 0.027*\"radar\" + 0.025*\"limit\" + 0.023*\"accident\" + 0.022*\"miss\"\n",
      "Topic #17: 0.239*\"use\" + 0.207*\"useful\" + 0.116*\"easy\" + 0.053*\"city\" + 0.026*\"simple\" + 0.019*\"house\" + 0.019*\"effective\" + 0.018*\"convenient\" + 0.013*\"daily\" + 0.013*\"station\"\n",
      "Topic #18: 0.127*\"star\" + 0.070*\"driver\" + 0.046*\"datum\" + 0.044*\"carplay\" + 0.043*\"able\" + 0.038*\"delay\" + 0.036*\"program\" + 0.032*\"today\" + 0.030*\"bit\" + 0.029*\"difficult\"\n",
      "Topic #19: 0.062*\"right\" + 0.047*\"battery\" + 0.046*\"show\" + 0.042*\"police\" + 0.042*\"reliable\" + 0.041*\"hour\" + 0.036*\"path\" + 0.033*\"something\" + 0.031*\"mode\" + 0.031*\"street\"\n"
     ]
    }
   ],
   "source": [
    "print(\"LDA Model:\")\n",
    " \n",
    "for idx in range(NUM_TOPICS):\n",
    "    # Print the first 10 most representative topics\n",
    "    print(\"Topic #%s:\" % idx, lda_model.print_topic(idx, 10))"
   ]
  },
  {
   "cell_type": "code",
   "execution_count": 11,
   "metadata": {},
   "outputs": [
    {
     "name": "stdout",
     "output_type": "stream",
     "text": [
      "LSA Model:\n",
      "Topic #0: 0.641*\"good\" + 0.575*\"app\" + 0.280*\"map\" + 0.162*\"time\" + 0.132*\"route\" + 0.128*\"use\" + 0.101*\"great\" + 0.089*\"update\" + 0.085*\"navigation\" + 0.078*\"traffic\"\n",
      "Topic #1: -0.760*\"good\" + 0.515*\"app\" + 0.216*\"map\" + 0.135*\"time\" + 0.120*\"great\" + 0.102*\"route\" + 0.088*\"update\" + 0.072*\"use\" + 0.061*\"road\" + 0.057*\"traffic\"\n",
      "Topic #2: 0.678*\"brother\" + 0.424*\"comment\" + 0.346*\"use\" + -0.286*\"app\" + 0.284*\"map\" + 0.145*\"day\" + 0.135*\"fire\" + 0.133*\"red\" + 0.077*\"easy\" + 0.046*\"time\"\n",
      "Topic #3: -0.660*\"brother\" + 0.444*\"comment\" + 0.365*\"use\" + 0.307*\"map\" + -0.265*\"app\" + -0.130*\"fire\" + -0.127*\"red\" + -0.121*\"day\" + 0.082*\"easy\" + 0.039*\"time\"\n",
      "Topic #4: -0.658*\"map\" + 0.554*\"comment\" + 0.369*\"app\" + 0.230*\"use\" + -0.122*\"route\" + -0.096*\"time\" + -0.068*\"update\" + -0.065*\"road\" + -0.052*\"application\" + 0.048*\"great\"\n",
      "Topic #5: 0.518*\"route\" + 0.503*\"time\" + -0.440*\"map\" + -0.249*\"app\" + 0.179*\"road\" + 0.178*\"traffic\" + 0.133*\"update\" + 0.126*\"application\" + 0.105*\"waze\" + 0.083*\"way\"\n",
      "Topic #6: -0.770*\"use\" + 0.553*\"comment\" + -0.244*\"easy\" + 0.181*\"map\" + 0.052*\"route\" + 0.022*\"app\" + 0.021*\"update\" + -0.020*\"great\" + -0.019*\"application\" + 0.018*\"fake\"\n",
      "Topic #7: -0.751*\"route\" + 0.571*\"time\" + 0.141*\"update\" + 0.127*\"application\" + 0.126*\"great\" + 0.073*\"location\" + 0.071*\"gps\" + -0.070*\"app\" + 0.057*\"work\" + -0.057*\"option\"\n",
      "Topic #8: 0.938*\"great\" + 0.188*\"application\" + -0.180*\"time\" + -0.144*\"app\" + -0.109*\"update\" + -0.050*\"location\" + 0.046*\"road\" + 0.043*\"excellent\" + 0.041*\"traffic\" + 0.038*\"route\"\n",
      "Topic #9: 0.656*\"update\" + -0.445*\"time\" + 0.410*\"application\" + 0.175*\"last\" + 0.157*\"location\" + 0.146*\"gps\" + -0.106*\"map\" + 0.101*\"new\" + 0.099*\"work\" + 0.098*\"excellent\"\n",
      "Topic #10: 0.770*\"application\" + -0.473*\"update\" + 0.266*\"excellent\" + -0.219*\"great\" + -0.111*\"last\" + 0.102*\"useful\" + 0.082*\"app\" + -0.075*\"new\" + 0.062*\"nice\" + -0.061*\"good\"\n",
      "Topic #11: 0.791*\"road\" + -0.256*\"route\" + -0.241*\"time\" + 0.235*\"navigation\" + -0.166*\"update\" + 0.141*\"traffic\" + -0.121*\"application\" + 0.119*\"way\" + 0.109*\"waze\" + 0.109*\"car\"\n",
      "Topic #12: 0.744*\"location\" + -0.321*\"update\" + 0.281*\"navigation\" + -0.238*\"road\" + 0.225*\"gps\" + 0.146*\"place\" + -0.117*\"application\" + -0.111*\"traffic\" + 0.095*\"work\" + -0.090*\"excellent\"\n",
      "Topic #13: 0.831*\"navigation\" + -0.357*\"location\" + -0.308*\"road\" + 0.138*\"traffic\" + -0.101*\"gps\" + 0.077*\"excellent\" + 0.068*\"voice\" + 0.066*\"waze\" + 0.061*\"car\" + -0.061*\"place\"\n",
      "Topic #14: -0.935*\"nice\" + 0.253*\"excellent\" + 0.145*\"gps\" + 0.091*\"waze\" + 0.080*\"traffic\" + -0.054*\"place\" + -0.053*\"application\" + -0.052*\"navigation\" + -0.045*\"update\" + 0.044*\"love\"\n",
      "Topic #15: -0.913*\"open\" + 0.293*\"excellent\" + -0.179*\"blank\" + 0.075*\"location\" + -0.061*\"application\" + -0.059*\"page\" + -0.057*\"download\" + -0.055*\"display\" + 0.055*\"update\" + 0.051*\"nice\"\n",
      "Topic #16: -0.800*\"excellent\" + 0.291*\"application\" + -0.284*\"nice\" + -0.277*\"open\" + 0.190*\"👍\" + -0.165*\"traffic\" + -0.087*\"gps\" + 0.086*\"navigation\" + -0.073*\"waze\" + -0.071*\"work\"\n",
      "Topic #17: -0.386*\"many\" + -0.357*\"people\" + -0.334*\"life\" + -0.331*\"world\" + -0.289*\"thing\" + -0.224*\"place\" + 0.208*\"gps\" + -0.196*\"way\" + 0.161*\"road\" + -0.158*\"love\"\n",
      "Topic #18: 0.445*\"traffic\" + 0.329*\"waze\" + 0.325*\"day\" + 0.302*\"love\" + 0.290*\"gps\" + 0.263*\"work\" + -0.245*\"excellent\" + -0.191*\"navigation\" + -0.182*\"road\" + -0.140*\"location\"\n",
      "Topic #19: -0.704*\"money\" + -0.434*\"correct\" + -0.328*\"hungry\" + -0.239*\"number\" + -0.211*\"period\" + -0.182*\"serial\" + -0.146*\"recovery\" + -0.135*\"skin\" + -0.094*\"delivery\" + -0.064*\"holiday\"\n"
     ]
    }
   ],
   "source": [
    "print(\"LSA Model:\")\n",
    " \n",
    "for idx in range(NUM_TOPICS):\n",
    "    # Print the first 10 most representative topics\n",
    "    print(\"Topic #%s:\" % idx, lsa_model.print_topic(idx, 10))"
   ]
  },
  {
   "cell_type": "code",
   "execution_count": 12,
   "metadata": {},
   "outputs": [
    {
     "name": "stdout",
     "output_type": "stream",
     "text": [
      "[(0, 0.1280448836429215), (1, 0.0717133192612804), (2, 0.3459890312350494), (3, 0.3653883556229874), (4, 0.2303936840068959), (5, -0.03562514232104361), (6, -0.7702503515291939), (7, -0.04599183582243753), (8, -0.029029750199143476), (9, -0.007185015928922691), (10, -0.020312018315379897), (11, -0.0112474557574865), (12, -0.009760438530742259), (13, -0.0052901756647311645), (14, 0.0024106290259257096), (15, 0.0016639226525906711), (16, 0.010796914559613761), (17, 0.029405946274041084), (18, -0.01621039860003634), (19, -0.0009760840545625242)]\n",
      "[(0, 0.025000015), (1, 0.025000015), (2, 0.025000015), (3, 0.025000015), (4, 0.025000015), (5, 0.025000015), (6, 0.025000015), (7, 0.025000015), (8, 0.025000015), (9, 0.025000015), (10, 0.025000015), (11, 0.025000015), (12, 0.025000015), (13, 0.025000015), (14, 0.025000015), (15, 0.025000015), (16, 0.025000015), (17, 0.5249997), (18, 0.025000015), (19, 0.025000015)]\n"
     ]
    }
   ],
   "source": [
    "bow = dictionary.doc2bow(clean_text('Can comments be used? ? ? How can I not use it?'))\n",
    " \n",
    "print(lsa_model[bow])\n",
    " \n",
    "print(lda_model[bow])"
   ]
  },
  {
   "cell_type": "code",
   "execution_count": 37,
   "metadata": {},
   "outputs": [],
   "source": [
    "# Transfer both model to document-topic matrix with corresponding probability\n",
    "LDA_Matrix = []\n",
    "\n",
    "for bow in corpus:\n",
    "    LDA_pro = []\n",
    "    for index, probability in lda_model[bow]:\n",
    "        LDA_pro.append(probability)\n",
    "    \n",
    "    LDA_Matrix.append(LDA_pro)"
   ]
  },
  {
   "cell_type": "code",
   "execution_count": 38,
   "metadata": {},
   "outputs": [],
   "source": [
    "# Transfer both model to document-topic matrix with corresponding probability\n",
    "LSA_Matrix = []\n",
    "\n",
    "for bow in corpus:\n",
    "    LSA_pro = []\n",
    "    for index, probability in lsa_model[bow]:\n",
    "        LSA_pro.append(probability)\n",
    "    \n",
    "    LSA_Matrix.append(LSA_pro)"
   ]
  },
  {
   "cell_type": "code",
   "execution_count": 39,
   "metadata": {},
   "outputs": [],
   "source": [
    "data = pd.read_csv('translated_data.csv')\n",
    "data = data[pd.notnull(data['Translated'])]"
   ]
  },
  {
   "cell_type": "code",
   "execution_count": 40,
   "metadata": {},
   "outputs": [],
   "source": [
    "rating = data['Rating']\n",
    "data = data['Translated']"
   ]
  },
  {
   "cell_type": "markdown",
   "metadata": {},
   "source": [
    "## Topic Selection"
   ]
  },
  {
   "cell_type": "code",
   "execution_count": 41,
   "metadata": {},
   "outputs": [],
   "source": [
    "from sklearn import model_selection\n",
    "from sklearn.model_selection import train_test_split\n",
    "from sklearn import feature_selection\n",
    "from sklearn.linear_model import LinearRegression"
   ]
  },
  {
   "cell_type": "markdown",
   "metadata": {},
   "source": [
    "### LDA"
   ]
  },
  {
   "cell_type": "code",
   "execution_count": 42,
   "metadata": {},
   "outputs": [
    {
     "data": {
      "text/html": [
       "<div>\n",
       "<style scoped>\n",
       "    .dataframe tbody tr th:only-of-type {\n",
       "        vertical-align: middle;\n",
       "    }\n",
       "\n",
       "    .dataframe tbody tr th {\n",
       "        vertical-align: top;\n",
       "    }\n",
       "\n",
       "    .dataframe thead th {\n",
       "        text-align: right;\n",
       "    }\n",
       "</style>\n",
       "<table border=\"1\" class=\"dataframe\">\n",
       "  <thead>\n",
       "    <tr style=\"text-align: right;\">\n",
       "      <th></th>\n",
       "      <th>0</th>\n",
       "      <th>1</th>\n",
       "      <th>2</th>\n",
       "      <th>3</th>\n",
       "      <th>4</th>\n",
       "      <th>5</th>\n",
       "      <th>6</th>\n",
       "      <th>7</th>\n",
       "      <th>8</th>\n",
       "      <th>9</th>\n",
       "      <th>...</th>\n",
       "      <th>11</th>\n",
       "      <th>12</th>\n",
       "      <th>13</th>\n",
       "      <th>14</th>\n",
       "      <th>15</th>\n",
       "      <th>16</th>\n",
       "      <th>17</th>\n",
       "      <th>18</th>\n",
       "      <th>19</th>\n",
       "      <th>rating</th>\n",
       "    </tr>\n",
       "  </thead>\n",
       "  <tbody>\n",
       "    <tr>\n",
       "      <th>0</th>\n",
       "      <td>0.524998</td>\n",
       "      <td>0.025000</td>\n",
       "      <td>0.025000</td>\n",
       "      <td>0.025000</td>\n",
       "      <td>0.025000</td>\n",
       "      <td>0.025000</td>\n",
       "      <td>0.025000</td>\n",
       "      <td>0.025000</td>\n",
       "      <td>0.025000</td>\n",
       "      <td>0.025000</td>\n",
       "      <td>...</td>\n",
       "      <td>0.025000</td>\n",
       "      <td>0.025000</td>\n",
       "      <td>0.025000</td>\n",
       "      <td>0.025000</td>\n",
       "      <td>0.025000</td>\n",
       "      <td>0.025000</td>\n",
       "      <td>0.025000</td>\n",
       "      <td>0.025000</td>\n",
       "      <td>0.025000</td>\n",
       "      <td>5.0</td>\n",
       "    </tr>\n",
       "    <tr>\n",
       "      <th>1</th>\n",
       "      <td>0.016667</td>\n",
       "      <td>0.016667</td>\n",
       "      <td>0.016667</td>\n",
       "      <td>0.016667</td>\n",
       "      <td>0.016667</td>\n",
       "      <td>0.349992</td>\n",
       "      <td>0.016667</td>\n",
       "      <td>0.016667</td>\n",
       "      <td>0.016667</td>\n",
       "      <td>0.016667</td>\n",
       "      <td>...</td>\n",
       "      <td>0.016667</td>\n",
       "      <td>0.016667</td>\n",
       "      <td>0.016667</td>\n",
       "      <td>0.016667</td>\n",
       "      <td>0.016667</td>\n",
       "      <td>0.016667</td>\n",
       "      <td>0.016667</td>\n",
       "      <td>0.016667</td>\n",
       "      <td>0.016667</td>\n",
       "      <td>1.0</td>\n",
       "    </tr>\n",
       "    <tr>\n",
       "      <th>3</th>\n",
       "      <td>0.010000</td>\n",
       "      <td>0.010000</td>\n",
       "      <td>0.010000</td>\n",
       "      <td>0.010000</td>\n",
       "      <td>0.010000</td>\n",
       "      <td>0.010000</td>\n",
       "      <td>0.332726</td>\n",
       "      <td>0.010000</td>\n",
       "      <td>0.010000</td>\n",
       "      <td>0.010000</td>\n",
       "      <td>...</td>\n",
       "      <td>0.010000</td>\n",
       "      <td>0.209999</td>\n",
       "      <td>0.010000</td>\n",
       "      <td>0.010000</td>\n",
       "      <td>0.287275</td>\n",
       "      <td>0.010000</td>\n",
       "      <td>0.010000</td>\n",
       "      <td>0.010000</td>\n",
       "      <td>0.010000</td>\n",
       "      <td>5.0</td>\n",
       "    </tr>\n",
       "    <tr>\n",
       "      <th>8</th>\n",
       "      <td>0.010000</td>\n",
       "      <td>0.010000</td>\n",
       "      <td>0.010000</td>\n",
       "      <td>0.010000</td>\n",
       "      <td>0.010000</td>\n",
       "      <td>0.010000</td>\n",
       "      <td>0.209992</td>\n",
       "      <td>0.010000</td>\n",
       "      <td>0.610004</td>\n",
       "      <td>0.010000</td>\n",
       "      <td>...</td>\n",
       "      <td>0.010000</td>\n",
       "      <td>0.010000</td>\n",
       "      <td>0.010000</td>\n",
       "      <td>0.010000</td>\n",
       "      <td>0.010000</td>\n",
       "      <td>0.010000</td>\n",
       "      <td>0.010000</td>\n",
       "      <td>0.010000</td>\n",
       "      <td>0.010000</td>\n",
       "      <td>1.0</td>\n",
       "    </tr>\n",
       "    <tr>\n",
       "      <th>9</th>\n",
       "      <td>0.010000</td>\n",
       "      <td>0.010000</td>\n",
       "      <td>0.010000</td>\n",
       "      <td>0.010000</td>\n",
       "      <td>0.410003</td>\n",
       "      <td>0.010000</td>\n",
       "      <td>0.210003</td>\n",
       "      <td>0.010000</td>\n",
       "      <td>0.010000</td>\n",
       "      <td>0.010000</td>\n",
       "      <td>...</td>\n",
       "      <td>0.010000</td>\n",
       "      <td>0.010000</td>\n",
       "      <td>0.010000</td>\n",
       "      <td>0.010000</td>\n",
       "      <td>0.010000</td>\n",
       "      <td>0.010000</td>\n",
       "      <td>0.209993</td>\n",
       "      <td>0.010000</td>\n",
       "      <td>0.010000</td>\n",
       "      <td>5.0</td>\n",
       "    </tr>\n",
       "  </tbody>\n",
       "</table>\n",
       "<p>5 rows × 21 columns</p>\n",
       "</div>"
      ],
      "text/plain": [
       "          0         1         2         3         4         5         6  \\\n",
       "0  0.524998  0.025000  0.025000  0.025000  0.025000  0.025000  0.025000   \n",
       "1  0.016667  0.016667  0.016667  0.016667  0.016667  0.349992  0.016667   \n",
       "3  0.010000  0.010000  0.010000  0.010000  0.010000  0.010000  0.332726   \n",
       "8  0.010000  0.010000  0.010000  0.010000  0.010000  0.010000  0.209992   \n",
       "9  0.010000  0.010000  0.010000  0.010000  0.410003  0.010000  0.210003   \n",
       "\n",
       "          7         8         9   ...          11        12        13  \\\n",
       "0  0.025000  0.025000  0.025000   ...    0.025000  0.025000  0.025000   \n",
       "1  0.016667  0.016667  0.016667   ...    0.016667  0.016667  0.016667   \n",
       "3  0.010000  0.010000  0.010000   ...    0.010000  0.209999  0.010000   \n",
       "8  0.010000  0.610004  0.010000   ...    0.010000  0.010000  0.010000   \n",
       "9  0.010000  0.010000  0.010000   ...    0.010000  0.010000  0.010000   \n",
       "\n",
       "         14        15        16        17        18        19  rating  \n",
       "0  0.025000  0.025000  0.025000  0.025000  0.025000  0.025000     5.0  \n",
       "1  0.016667  0.016667  0.016667  0.016667  0.016667  0.016667     1.0  \n",
       "3  0.010000  0.287275  0.010000  0.010000  0.010000  0.010000     5.0  \n",
       "8  0.010000  0.010000  0.010000  0.010000  0.010000  0.010000     1.0  \n",
       "9  0.010000  0.010000  0.010000  0.209993  0.010000  0.010000     5.0  \n",
       "\n",
       "[5 rows x 21 columns]"
      ]
     },
     "execution_count": 42,
     "metadata": {},
     "output_type": "execute_result"
    }
   ],
   "source": [
    "headers = np.arange(20)\n",
    "df = pd.DataFrame(LDA_Matrix, columns=headers)\n",
    "df['rating'] = rating\n",
    "df = df.dropna()\n",
    "df.head()"
   ]
  },
  {
   "cell_type": "code",
   "execution_count": 43,
   "metadata": {},
   "outputs": [
    {
     "data": {
      "text/plain": [
       "(324765, 21)"
      ]
     },
     "execution_count": 43,
     "metadata": {},
     "output_type": "execute_result"
    }
   ],
   "source": [
    "df.shape"
   ]
  },
  {
   "cell_type": "code",
   "execution_count": 44,
   "metadata": {},
   "outputs": [],
   "source": [
    "y = df['rating']\n",
    "x = df.drop(['rating'],axis=1)"
   ]
  },
  {
   "cell_type": "code",
   "execution_count": 45,
   "metadata": {},
   "outputs": [
    {
     "name": "stdout",
     "output_type": "stream",
     "text": [
      "1 1.0580172480885153\n",
      "6 1.0578986680933908\n",
      "11 1.057819927543635\n",
      "16 1.0577059368259853\n",
      "21 1.0577059368259853\n",
      "26 1.0576568280333543\n",
      "31 1.057601118813622\n",
      "36 1.0575148264499608\n",
      "41 1.0574959313498757\n",
      "46 1.0574715680432791\n",
      "51 1.057476169957176\n",
      "56 1.0574630023196658\n",
      "61 1.0574859458568084\n",
      "66 1.0574864922421792\n",
      "71 1.0574849835529765\n",
      "76 1.0575215854147806\n",
      "81 1.0575238966647524\n",
      "86 1.057524942065198\n",
      "91 1.057538459828346\n",
      "96 1.057551748532519\n"
     ]
    }
   ],
   "source": [
    "# Feature selection\n",
    "LR = LinearRegression()\n",
    "\n",
    "percentiles = range(1, 100, 5)\n",
    "results = []\n",
    "for i in range(1, 101, 5):\n",
    "    fs = feature_selection.SelectPercentile(feature_selection.f_regression, percentile=i)\n",
    "    cm_fs = fs.fit_transform(x, y)\n",
    "    scores = abs(model_selection.cross_val_score(LR, cm_fs, y, cv=5, scoring='neg_mean_absolute_error'))\n",
    "    print(i,scores.mean())\n",
    "    results = np.append(results, scores.mean())"
   ]
  },
  {
   "cell_type": "code",
   "execution_count": 46,
   "metadata": {},
   "outputs": [
    {
     "name": "stdout",
     "output_type": "stream",
     "text": [
      "Optimal percentile of features:56 \n",
      "\n",
      "Optimal number of features:11 \n",
      "\n"
     ]
    }
   ],
   "source": [
    "cm_feature = x.columns\n",
    "optimal_percentile = int(np.where(results == results.min())[0])\n",
    "print(\"Optimal percentile of features:{0}\".format(percentiles[optimal_percentile]), \"\\n\")\n",
    "optimal_num_features = int(percentiles[optimal_percentile]*len(cm_feature)/100)\n",
    "print(\"Optimal number of features:{0}\".format(optimal_num_features), \"\\n\")"
   ]
  },
  {
   "cell_type": "code",
   "execution_count": 47,
   "metadata": {},
   "outputs": [
    {
     "data": {
      "text/plain": [
       "[<matplotlib.lines.Line2D at 0x13e6bbc88>]"
      ]
     },
     "execution_count": 47,
     "metadata": {},
     "output_type": "execute_result"
    },
    {
     "data": {
      "image/png": "[encoded data removed]",
      "text/plain": [
       "<Figure size 432x288 with 1 Axes>"
      ]
     },
     "metadata": {},
     "output_type": "display_data"
    }
   ],
   "source": [
    "import pylab as pl\n",
    "pl.figure()\n",
    "pl.xlabel(\"Percentage of features selected\")\n",
    "pl.ylabel(\"Cross validation accuracy\")\n",
    "pl.plot(percentiles, results)"
   ]
  },
  {
   "cell_type": "code",
   "execution_count": 48,
   "metadata": {},
   "outputs": [
    {
     "name": "stdout",
     "output_type": "stream",
     "text": [
      "0 \t 3.9819589295116495\n",
      "1 \t 13.89722787106807\n",
      "2 \t 32.06243030688316\n",
      "3 \t 28.05033894892897\n",
      "4 \t 0.025301493707939382\n",
      "5 \t 49.93013947984282\n",
      "6 \t 0.6933066105943315\n",
      "7 \t 70.32648012196609\n",
      "8 \t 187.7949151309583\n",
      "9 \t 28.26587500865036\n",
      "10 \t 0.11173755442027575\n",
      "11 \t 13.240125826135618\n",
      "12 \t 2.6550226367970025\n",
      "14 \t 0.4851040642634076\n",
      "15 \t 46.99389106378023\n",
      "16 \t 12.418729405700605\n",
      "17 \t 1.593648712168749\n",
      "18 \t 7.805003518744354\n",
      "19 \t 0.663833932500669\n"
     ]
    }
   ],
   "source": [
    "fs = feature_selection.SelectPercentile(feature_selection.f_regression, percentile=96)\n",
    "x_fs = fs.fit_transform(x, y)\n",
    "for i in range(len(cm_feature)):\n",
    "    if fs.get_support()[i]:\n",
    "        print(cm_feature[i],'\\t', fs.scores_[i] )"
   ]
  },
  {
   "cell_type": "code",
   "execution_count": 49,
   "metadata": {},
   "outputs": [],
   "source": [
    "from sklearn import preprocessing"
   ]
  },
  {
   "cell_type": "code",
   "execution_count": 50,
   "metadata": {},
   "outputs": [
    {
     "data": {
      "text/plain": [
       "array([0.64374781, 0.01875054, 0.01875014, 0.01875015, 0.01875015,\n",
       "       0.01875014, 0.01875014, 0.01875014, 0.01875014, 0.01875014,\n",
       "       0.01875015, 0.01875015, 0.01875014, 0.01875015, 0.01875014,\n",
       "       0.01875015, 0.01875014, 0.01875016, 0.01875016])"
      ]
     },
     "execution_count": 50,
     "metadata": {},
     "output_type": "execute_result"
    }
   ],
   "source": [
    "min_max_scaler = preprocessing.MinMaxScaler(copy=True, feature_range=(0,1)).fit(x_fs)\n",
    "data_norm = min_max_scaler.transform(x_fs)\n",
    "data_norm[0]"
   ]
  },
  {
   "cell_type": "code",
   "execution_count": 51,
   "metadata": {},
   "outputs": [
    {
     "data": {
      "text/plain": [
       "LinearRegression(copy_X=True, fit_intercept=True, n_jobs=None,\n",
       "         normalize=False)"
      ]
     },
     "execution_count": 51,
     "metadata": {},
     "output_type": "execute_result"
    }
   ],
   "source": [
    "x_train_fs, x_test_fs, y_train_fs, y_test_fs = train_test_split(data_norm, y, test_size=0.33, random_state=123)\n",
    "LR = LinearRegression()\n",
    "LR.fit(x_train_fs, y_train_fs)"
   ]
  },
  {
   "cell_type": "markdown",
   "metadata": {},
   "source": [
    "### LDA Feature Selection with Linear Regression Result"
   ]
  },
  {
   "cell_type": "code",
   "execution_count": 52,
   "metadata": {},
   "outputs": [
    {
     "name": "stdout",
     "output_type": "stream",
     "text": [
      "1.0570917601389036\n",
      "1.771042445244\n",
      "1.3308051868113528\n"
     ]
    }
   ],
   "source": [
    "from sklearn import metrics\n",
    "y_pred_fs = LR.predict(x_test_fs)\n",
    "\n",
    "# MAE\n",
    "print(metrics.mean_absolute_error(y_test_fs, y_pred_fs))\n",
    "# MSE\n",
    "print(metrics.mean_squared_error(y_test_fs, y_pred_fs))\n",
    "# RMSE\n",
    "print(np.sqrt(metrics.mean_squared_error(y_test_fs, y_pred_fs)))"
   ]
  },
  {
   "cell_type": "code",
   "execution_count": 53,
   "metadata": {},
   "outputs": [
    {
     "name": "stdout",
     "output_type": "stream",
     "text": [
      "Regression Coefficients: \n",
      " [-0.02621223 -0.10274409 -0.12407025  0.06289692  0.01347483 -0.20530169\n",
      " -0.03716582  0.06562148 -0.26250509 -0.12568571  0.01832149 -0.07666346\n",
      "  0.02692166  0.04657694  0.07632491  0.06946034 -0.01348178 -0.08679014\n",
      "  0.031802  ]\n"
     ]
    }
   ],
   "source": [
    "print ('Regression Coefficients: \\n', LR.coef_)"
   ]
  },
  {
   "cell_type": "markdown",
   "metadata": {},
   "source": [
    "## LSA"
   ]
  },
  {
   "cell_type": "code",
   "execution_count": 54,
   "metadata": {},
   "outputs": [
    {
     "name": "stdout",
     "output_type": "stream",
     "text": [
      "1 1.088976399541762\n",
      "6 1.0888512530007664\n",
      "11 1.0885741634486208\n",
      "16 1.0885228475550797\n",
      "21 1.0885228475550797\n",
      "26 1.0884047225649671\n",
      "31 1.0882364964273252\n",
      "36 1.0881328424450447\n",
      "41 1.0881161812957394\n",
      "46 1.088035874397895\n",
      "51 1.0879511654235894\n",
      "56 1.0879011898208846\n",
      "61 1.0879037153831077\n",
      "66 1.0877687699369545\n",
      "71 1.0877855675142\n",
      "76 1.0878225876224887\n",
      "81 1.0877868753002997\n",
      "86 1.08779731634541\n",
      "91 1.0878029409990846\n",
      "96 1.0878113890827514\n"
     ]
    }
   ],
   "source": [
    "df = pd.DataFrame(LSA_Matrix, columns=headers)\n",
    "df['rating'] = rating\n",
    "df = df.dropna()\n",
    "\n",
    "y = df['rating']\n",
    "x = df.drop(['rating'],axis=1)\n",
    "\n",
    "# Feature selection\n",
    "LR = LinearRegression()\n",
    "\n",
    "percentiles = range(1, 100, 5)\n",
    "results = []\n",
    "for i in range(1, 101, 5):\n",
    "    fs = feature_selection.SelectPercentile(feature_selection.f_regression, percentile=i)\n",
    "    cm_fs = fs.fit_transform(x, y)\n",
    "    scores = abs(model_selection.cross_val_score(LR, cm_fs, y, cv=5, scoring='neg_mean_absolute_error'))\n",
    "    print(i,scores.mean())\n",
    "    results = np.append(results, scores.mean())"
   ]
  },
  {
   "cell_type": "code",
   "execution_count": 55,
   "metadata": {},
   "outputs": [
    {
     "name": "stdout",
     "output_type": "stream",
     "text": [
      "Optimal percentile of features:66 \n",
      "\n",
      "Optimal number of features:13 \n",
      "\n"
     ]
    }
   ],
   "source": [
    "cm_feature = x.columns\n",
    "optimal_percentile = int(np.where(results == results.min())[0])\n",
    "print(\"Optimal percentile of features:{0}\".format(percentiles[optimal_percentile]), \"\\n\")\n",
    "optimal_num_features = int(percentiles[optimal_percentile]*len(cm_feature)/100)\n",
    "print(\"Optimal number of features:{0}\".format(optimal_num_features), \"\\n\")"
   ]
  },
  {
   "cell_type": "code",
   "execution_count": 56,
   "metadata": {},
   "outputs": [
    {
     "data": {
      "text/plain": [
       "[<matplotlib.lines.Line2D at 0x129bb7400>]"
      ]
     },
     "execution_count": 56,
     "metadata": {},
     "output_type": "execute_result"
    },
    {
     "data": {
      "image/png": "[encoded data removed]",
      "text/plain": [
       "<Figure size 432x288 with 1 Axes>"
      ]
     },
     "metadata": {},
     "output_type": "display_data"
    }
   ],
   "source": [
    "import pylab as pl\n",
    "pl.figure()\n",
    "pl.xlabel(\"Percentage of features selected\")\n",
    "pl.ylabel(\"Cross validation accuracy\")\n",
    "pl.plot(percentiles, results)"
   ]
  },
  {
   "cell_type": "code",
   "execution_count": 57,
   "metadata": {},
   "outputs": [
    {
     "name": "stdout",
     "output_type": "stream",
     "text": [
      "0 \t 250.62252371255965\n",
      "1 \t 469.0405390073533\n",
      "2 \t 98.82480307757142\n",
      "3 \t 117.13164076511346\n",
      "4 \t 57.47246375745098\n",
      "5 \t 44.696062354280045\n",
      "6 \t 1.5896475326597053\n",
      "7 \t 24.07691762469679\n",
      "8 \t 186.6972849490259\n",
      "9 \t 210.10806971626815\n",
      "10 \t 190.1589465301548\n",
      "11 \t 8.105817104015538\n",
      "12 \t 42.84904290059857\n",
      "13 \t 0.8237844832352549\n",
      "14 \t 8.411199779057936\n",
      "15 \t 55.007265914118335\n",
      "16 \t 46.51037361765508\n",
      "17 \t 50.66014368591676\n",
      "18 \t 1.293720115729899\n"
     ]
    }
   ],
   "source": [
    "fs = feature_selection.SelectPercentile(feature_selection.f_regression, percentile=96)\n",
    "x_fs = fs.fit_transform(x, y)\n",
    "for i in range(len(cm_feature)):\n",
    "    if fs.get_support()[i]:\n",
    "        print(cm_feature[i],'\\t', fs.scores_[i] )"
   ]
  },
  {
   "cell_type": "code",
   "execution_count": 58,
   "metadata": {},
   "outputs": [
    {
     "data": {
      "text/plain": [
       "LinearRegression(copy_X=True, fit_intercept=True, n_jobs=None,\n",
       "         normalize=False)"
      ]
     },
     "execution_count": 58,
     "metadata": {},
     "output_type": "execute_result"
    }
   ],
   "source": [
    "from sklearn import preprocessing\n",
    "min_max_scaler = preprocessing.MinMaxScaler(copy=True, feature_range=(0,1)).fit(x_fs)\n",
    "data_norm = min_max_scaler.transform(x_fs)\n",
    "x_train_fs, x_test_fs, y_train_fs, y_test_fs = train_test_split(data_norm, y, test_size=0.33, random_state=123)\n",
    "LR = LinearRegression()\n",
    "LR.fit(x_train_fs, y_train_fs)"
   ]
  },
  {
   "cell_type": "markdown",
   "metadata": {},
   "source": [
    "### LSA Feature Selection with Linear Regression Result¶"
   ]
  },
  {
   "cell_type": "code",
   "execution_count": 59,
   "metadata": {},
   "outputs": [
    {
     "name": "stdout",
     "output_type": "stream",
     "text": [
      "1.087921321240507\n",
      "1.838572259650534\n",
      "1.355939622420753\n"
     ]
    }
   ],
   "source": [
    "from sklearn import metrics\n",
    "y_pred_fs = LR.predict(x_test_fs)\n",
    "\n",
    "# MAE\n",
    "print(metrics.mean_absolute_error(y_test_fs, y_pred_fs))\n",
    "# MSE\n",
    "print(metrics.mean_squared_error(y_test_fs, y_pred_fs))\n",
    "# RMSE\n",
    "print(np.sqrt(metrics.mean_squared_error(y_test_fs, y_pred_fs)))"
   ]
  },
  {
   "cell_type": "code",
   "execution_count": 60,
   "metadata": {},
   "outputs": [
    {
     "name": "stdout",
     "output_type": "stream",
     "text": [
      "Regression Coefficients: \n",
      " [ -3.39449694  -4.22199043  -9.52949973 -13.38597806   5.32169287\n",
      "  -2.16527296  -0.8487228   -0.70243086   0.77299687  -2.17950102\n",
      "   1.18424808  -0.50771369  -0.91771828   0.01950765   0.69828719\n",
      "   6.78278763  -1.19926709   5.09381653  -0.05375124]\n"
     ]
    }
   ],
   "source": [
    "print ('Regression Coefficients: \\n', LR.coef_)"
   ]
  },
  {
   "cell_type": "code",
   "execution_count": null,
   "metadata": {},
   "outputs": [],
   "source": []
  }
 ],
 "metadata": {
  "kernelspec": {
   "display_name": "Python 3",
   "language": "python",
   "name": "python3"
  },
  "language_info": {
   "codemirror_mode": {
    "name": "ipython",
    "version": 3
   },
   "file_extension": ".py",
   "mimetype": "text/x-python",
   "name": "python",
   "nbconvert_exporter": "python",
   "pygments_lexer": "ipython3",
   "version": "3.6.7"
  }
 },
 "nbformat": 4,
 "nbformat_minor": 2
}
