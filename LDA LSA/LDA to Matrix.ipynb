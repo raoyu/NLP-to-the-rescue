{
 "cells": [
  {
   "cell_type": "code",
   "execution_count": 14,
   "metadata": {},
   "outputs": [],
   "source": [
    "import pandas as pd\n",
    "import numpy as np\n",
    "import pyLDAvis\n",
    "import pyLDAvis.gensim\n",
    "import matplotlib.pyplot as plt\n",
    "import seaborn as sns\n",
    "import spacy\n",
    "import gensim\n",
    "from gensim import corpora"
   ]
  },
  {
   "cell_type": "code",
   "execution_count": 15,
   "metadata": {},
   "outputs": [],
   "source": [
    "data = pd.read_csv('marvin.csv')\n",
    "data = data.iloc[0:10000]"
   ]
  },
  {
   "cell_type": "code",
   "execution_count": 16,
   "metadata": {},
   "outputs": [],
   "source": [
    "data = data['Text'].dropna()"
   ]
  },
  {
   "cell_type": "code",
   "execution_count": 17,
   "metadata": {},
   "outputs": [
    {
     "data": {
      "text/plain": [
       "(9999,)"
      ]
     },
     "execution_count": 17,
     "metadata": {},
     "output_type": "execute_result"
    }
   ],
   "source": [
    "data.shape"
   ]
  },
  {
   "cell_type": "code",
   "execution_count": 18,
   "metadata": {},
   "outputs": [],
   "source": [
    "data = data.astype(str)"
   ]
  },
  {
   "cell_type": "code",
   "execution_count": 19,
   "metadata": {},
   "outputs": [],
   "source": [
    "import nltk\n",
    "from nltk import FreqDist"
   ]
  },
  {
   "cell_type": "code",
   "execution_count": 20,
   "metadata": {},
   "outputs": [],
   "source": [
    "def freq_words(x, terms = 30):\n",
    "  all_words = ' '.join([text for text in x])\n",
    "  all_words = all_words.split()\n",
    "  \n",
    "  fdist = FreqDist(all_words)\n",
    "  words_df = pd.DataFrame({'word':list(fdist.keys()), 'count':list(fdist.values())})\n",
    "  \n",
    "  # selecting top 20 most frequent words\n",
    "  d = words_df.nlargest(columns=\"count\", n = terms) \n",
    "  plt.figure(figsize=(20,5))\n",
    "  ax = sns.barplot(data=d, x= \"word\", y = \"count\")\n",
    "  ax.set(ylabel = 'Count')\n",
    "  plt.show()"
   ]
  },
  {
   "cell_type": "code",
   "execution_count": 21,
   "metadata": {},
   "outputs": [
    {
     "name": "stdout",
     "output_type": "stream",
     "text": [
      "[nltk_data] Downloading package stopwords to\n",
      "[nltk_data]     /Users/marvin/nltk_data...\n",
      "[nltk_data]   Package stopwords is already up-to-date!\n"
     ]
    }
   ],
   "source": [
    "import nltk\n",
    "nltk.download('stopwords')\n",
    "from nltk.corpus import stopwords\n",
    "stop_words = stopwords.words('english')"
   ]
  },
  {
   "cell_type": "code",
   "execution_count": 22,
   "metadata": {},
   "outputs": [],
   "source": [
    "# function to remove stopwords\n",
    "def remove_stopwords(rev):\n",
    "  rev_new = \" \".join([i for i in rev if i not in stop_words])\n",
    "  return rev_new"
   ]
  },
  {
   "cell_type": "code",
   "execution_count": 23,
   "metadata": {},
   "outputs": [],
   "source": [
    "# remove short words (length < 3)\n",
    "data = data.apply(lambda x: ' '.join([w for w in x.split() if len(w)>2]))\n",
    "\n",
    "# remove stopwords from the text\n",
    "data = [remove_stopwords(r.split()) for r in data]\n",
    "\n",
    "# make entire text lowercase\n",
    "data = [r.lower() for r in data]"
   ]
  },
  {
   "cell_type": "code",
   "execution_count": 24,
   "metadata": {},
   "outputs": [
    {
     "data": {
      "image/png": "[encoded data removed]",
      "text/plain": [
       "<Figure size 1440x360 with 1 Axes>"
      ]
     },
     "metadata": {},
     "output_type": "display_data"
    }
   ],
   "source": [
    "freq_words(data, 20)"
   ]
  },
  {
   "cell_type": "code",
   "execution_count": 25,
   "metadata": {},
   "outputs": [],
   "source": [
    "nlp = spacy.load('en', disable=['parser', 'ner'])\n",
    "def lemmatization(texts, tags=['NOUN', 'ADJ']):\n",
    "    output = []\n",
    "    for sent in texts:\n",
    "        doc = nlp(\" \".join(sent)) \n",
    "        output.append([token.lemma_ for token in doc if token.pos_ in tags])\n",
    "    return output"
   ]
  },
  {
   "cell_type": "code",
   "execution_count": 37,
   "metadata": {},
   "outputs": [
    {
     "name": "stdout",
     "output_type": "stream",
     "text": [
      "['the', 'google', 'map', 'longer', 'available', 'relaxation', '...']\n"
     ]
    }
   ],
   "source": [
    "tokenized_data = pd.Series(data).apply(lambda x: x.split())\n",
    "print(tokenized_data[0])"
   ]
  },
  {
   "cell_type": "code",
   "execution_count": 38,
   "metadata": {},
   "outputs": [
    {
     "name": "stdout",
     "output_type": "stream",
     "text": [
      "['map', 'available', 'relaxation']\n"
     ]
    }
   ],
   "source": [
    "data_2 = lemmatization(tokenized_data)\n",
    "print(data_2[0])"
   ]
  },
  {
   "cell_type": "code",
   "execution_count": 81,
   "metadata": {},
   "outputs": [],
   "source": [
    "# Create the term dictionary of our corpus, where every unique term is assigned an index\n",
    "dictionary = corpora.Dictionary(data_2)\n",
    "\n",
    "\n",
    "# Convert list of reviews into a Document Term Matrix using the dictionary prepared above.\n",
    "doc_term_matrix = [dictionary.doc2bow(i) for i in data_2]\n",
    "\n",
    "# Creating the object for LDA model using gensim library\n",
    "LDA = gensim.models.ldamodel.LdaModel\n",
    "\n",
    "\n",
    "# Build LDA model\n",
    "lda_model = LDA(corpus=doc_term_matrix,\n",
    "                id2word=dictionary,\n",
    "                num_topics=5, \n",
    "                random_state=100,\n",
    "                chunksize=1000,\n",
    "                passes=50)"
   ]
  },
  {
   "cell_type": "code",
   "execution_count": 82,
   "metadata": {},
   "outputs": [
    {
     "data": {
      "text/plain": [
       "[(0,\n",
       "  '0.061*\"app\" + 0.059*\"nice\" + 0.055*\"love\" + 0.048*\"traffic\" + 0.015*\"application\" + 0.014*\"jam\" + 0.009*\"complete\" + 0.009*\"little\" + 0.008*\"radar\" + 0.008*\"uber\"'),\n",
       " (1,\n",
       "  '0.055*\"useful\" + 0.041*\"helpful\" + 0.025*\"road\" + 0.017*\"street\" + 0.016*\"star\" + 0.015*\"voice\" + 0.015*\"route\" + 0.015*\"map\" + 0.014*\"place\" + 0.014*\"problem\"'),\n",
       " (2,\n",
       "  '0.044*\"map\" + 0.043*\"gps\" + 0.029*\"route\" + 0.023*\"waze\" + 0.021*\"super\" + 0.021*\"time\" + 0.021*\"top\" + 0.019*\"well\" + 0.018*\"signal\" + 0.016*\"bad\"'),\n",
       " (3,\n",
       "  '0.290*\"good\" + 0.134*\"app\" + 0.091*\"great\" + 0.064*\"excellent\" + 0.046*\"application\" + 0.017*\"thank\" + 0.015*\"navigation\" + 0.013*\"👍\" + 0.010*\"android\" + 0.007*\"speed\"'),\n",
       " (4,\n",
       "  '0.044*\"use\" + 0.040*\"time\" + 0.039*\"lot\" + 0.035*\"work\" + 0.035*\"easy\" + 0.033*\"update\" + 0.029*\"accurate\" + 0.026*\"location\" + 0.021*\"cool\" + 0.020*\"day\"')]"
      ]
     },
     "execution_count": 82,
     "metadata": {},
     "output_type": "execute_result"
    }
   ],
   "source": [
    "lda_model.print_topics()"
   ]
  },
  {
   "cell_type": "code",
   "execution_count": 83,
   "metadata": {},
   "outputs": [
    {
     "data": {
      "text/plain": [
       "[(0, 0.10000006),\n",
       " (1, 0.10000005),\n",
       " (2, 0.10000005),\n",
       " (3, 0.5999998),\n",
       " (4, 0.10000005)]"
      ]
     },
     "execution_count": 83,
     "metadata": {},
     "output_type": "execute_result"
    }
   ],
   "source": [
    "lda_model.get_document_topics(doc_term_matrix[5505], minimum_probability = None)"
   ]
  },
  {
   "cell_type": "code",
   "execution_count": 59,
   "metadata": {},
   "outputs": [
    {
     "data": {
      "text/plain": [
       "[(0, 1), (1, 1), (2, 1)]"
      ]
     },
     "execution_count": 59,
     "metadata": {},
     "output_type": "execute_result"
    }
   ],
   "source": [
    "doc_term_matrix[0]"
   ]
  },
  {
   "cell_type": "code",
   "execution_count": 86,
   "metadata": {},
   "outputs": [],
   "source": [
    "topics = []\n",
    "probability = []\n",
    "for a, b in lda_model[doc_term_matrix[5505]]:\n",
    "    topics.append(a)\n",
    "    probability.append(b)"
   ]
  },
  {
   "cell_type": "code",
   "execution_count": null,
   "metadata": {},
   "outputs": [],
   "source": [
    "def get_doc_topic(corpus, model): \n",
    "        doc_topic = list() \n",
    "        for doc in corpus: \n",
    "            doc_topic.append(model.__getitem__(doc, eps=0)) \n",
    "        return doc_topic "
   ]
  }
 ],
 "metadata": {
  "kernelspec": {
   "display_name": "Python 3",
   "language": "python",
   "name": "python3"
  },
  "language_info": {
   "codemirror_mode": {
    "name": "ipython",
    "version": 3
   },
   "file_extension": ".py",
   "mimetype": "text/x-python",
   "name": "python",
   "nbconvert_exporter": "python",
   "pygments_lexer": "ipython3",
   "version": "3.6.7"
  }
 },
 "nbformat": 4,
 "nbformat_minor": 2
}
