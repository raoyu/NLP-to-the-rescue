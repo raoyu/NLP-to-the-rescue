{
 "cells": [
  {
   "cell_type": "markdown",
   "metadata": {},
   "source": [
    "## Make sure this code run at the parent level of raw data file"
   ]
  },
  {
   "cell_type": "code",
   "execution_count": 1,
   "metadata": {
    "collapsed": true
   },
   "outputs": [],
   "source": [
    "import os\n",
    "import pandas as pd"
   ]
  },
  {
   "cell_type": "code",
   "execution_count": 2,
   "metadata": {},
   "outputs": [
    {
     "data": {
      "text/plain": [
       "'/resources/DSC672'"
      ]
     },
     "execution_count": 2,
     "metadata": {},
     "output_type": "execute_result"
    }
   ],
   "source": [
    "os.getcwd()"
   ]
  },
  {
   "cell_type": "code",
   "execution_count": 3,
   "metadata": {
    "collapsed": true
   },
   "outputs": [],
   "source": [
    "## setting current directory to the file dir\n",
    "pwd = 'raw_data'\n",
    "cwd = os.path.join(os.getcwd(), pwd)\n",
    "os.chdir(cwd)"
   ]
  },
  {
   "cell_type": "code",
   "execution_count": 4,
   "metadata": {
    "collapsed": true
   },
   "outputs": [],
   "source": [
    "## getting all the csv file names\n",
    "files = [p for p in os.listdir() if p.endswith('.csv')]"
   ]
  },
  {
   "cell_type": "code",
   "execution_count": 5,
   "metadata": {},
   "outputs": [
    {
     "name": "stdout",
     "output_type": "stream",
     "text": [
      "(9782, 17)\n",
      "(26282, 17)\n",
      "(39927, 17)\n",
      "Error: export_export_reviews (17).csv\n",
      "(57975, 17)\n",
      "(72355, 17)\n",
      "(88889, 17)\n",
      "Error: export_export_reviews (18).csv\n",
      "(108147, 17)\n",
      "(125490, 17)\n",
      "(144296, 17)\n",
      "(161700, 17)\n",
      "(178221, 17)\n",
      "(197145, 17)\n",
      "(210066, 17)\n",
      "(227876, 17)\n",
      "(246334, 17)\n",
      "(260828, 17)\n",
      "(273070, 17)\n",
      "(283949, 17)\n",
      "(296549, 17)\n",
      "(309435, 17)\n",
      "(321066, 17)\n",
      "(333630, 17)\n",
      "(344951, 17)\n",
      "(357889, 17)\n",
      "(373817, 17)\n"
     ]
    }
   ],
   "source": [
    "## concatenate all the sheets\n",
    "outf = pd.read_csv(files[0])\n",
    "print(outf.shape)\n",
    "for f in files[1:]:\n",
    "    try:\n",
    "        outf = pd.concat([outf , pd.read_csv(f)])\n",
    "    except:\n",
    "        print('Error: {}'.format(f))\n",
    "    else:\n",
    "        print(outf.shape)"
   ]
  },
  {
   "cell_type": "code",
   "execution_count": 6,
   "metadata": {
    "collapsed": true
   },
   "outputs": [],
   "source": [
    "err_files = ['export_export_reviews (17).csv', 'export_export_reviews (18).csv']"
   ]
  },
  {
   "cell_type": "code",
   "execution_count": 7,
   "metadata": {},
   "outputs": [
    {
     "name": "stdout",
     "output_type": "stream",
     "text": [
      "(392536, 17)\n",
      "(408648, 17)\n"
     ]
    }
   ],
   "source": [
    "## using different encoding and separator to read error files\n",
    "for f in err_files:\n",
    "    data = pd.read_csv(f, sep='\\t', encoding='ISO-8859-1')\n",
    "    outf = pd.concat([outf , data])\n",
    "    print(outf.shape)"
   ]
  },
  {
   "cell_type": "code",
   "execution_count": 8,
   "metadata": {
    "collapsed": true
   },
   "outputs": [],
   "source": [
    "## setting current directory back the project dir\n",
    "cwd = os.path.dirname(os.getcwd())\n",
    "os.chdir(cwd)"
   ]
  },
  {
   "cell_type": "code",
   "execution_count": 9,
   "metadata": {
    "collapsed": true
   },
   "outputs": [],
   "source": [
    "## write out the file \n",
    "outf.to_csv('raw_data.csv', index=False)"
   ]
  },
  {
   "cell_type": "code",
   "execution_count": null,
   "metadata": {
    "collapsed": true
   },
   "outputs": [],
   "source": []
  }
 ],
 "metadata": {
  "kernelspec": {
   "display_name": "Python 3",
   "language": "python",
   "name": "python3"
  },
  "language_info": {
   "codemirror_mode": {
    "name": "ipython",
    "version": 3
   },
   "file_extension": ".py",
   "mimetype": "text/x-python",
   "name": "python",
   "nbconvert_exporter": "python",
   "pygments_lexer": "ipython3",
   "version": "3.6.2"
  }
 },
 "nbformat": 4,
 "nbformat_minor": 2
}
